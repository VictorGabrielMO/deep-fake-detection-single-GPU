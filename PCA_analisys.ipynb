{
 "cells": [
  {
   "cell_type": "code",
   "execution_count": 1,
   "id": "02ed2518-7275-4fdc-b54a-e7602ccbf3ab",
   "metadata": {},
   "outputs": [],
   "source": [
    "import numpy as np"
   ]
  },
  {
   "cell_type": "code",
   "execution_count": 2,
   "id": "67f829a1-caa2-4d04-8f55-3518bfeb12b6",
   "metadata": {},
   "outputs": [],
   "source": [
    "analisys_file = np.load(\"./features/results_example.npz\")"
   ]
  },
  {
   "cell_type": "code",
   "execution_count": 3,
   "id": "6885a918-54b1-41c1-be59-a9d9c1654d40",
   "metadata": {},
   "outputs": [
    {
     "name": "stdout",
     "output_type": "stream",
     "text": [
      "(500, 2048)\n",
      "(500, 1)\n",
      "(1596, 2048)\n",
      "(1596, 1)\n"
     ]
    }
   ],
   "source": [
    "print(analisys_file[\"fake_feats\"].shape) # features de dados deep fake (repare que as features possuem dimensao de 2048)\n",
    "print(analisys_file[\"fake_preds\"].shape) # predicoes em dados deep fake\n",
    "\n",
    "print(analisys_file[\"real_feats\"].shape) # features de dados reais (repare que as features possuem dimensao de 2048)\n",
    "print(analisys_file[\"real_preds\"].shape) # predicoes em dados reais"
   ]
  },
  {
   "cell_type": "code",
   "execution_count": null,
   "id": "efeec30a-df97-4530-bac2-5251ece87b97",
   "metadata": {},
   "outputs": [],
   "source": []
  }
 ],
 "metadata": {
  "kernelspec": {
   "display_name": "Python 3 (ipykernel)",
   "language": "python",
   "name": "python3"
  },
  "language_info": {
   "codemirror_mode": {
    "name": "ipython",
    "version": 3
   },
   "file_extension": ".py",
   "mimetype": "text/x-python",
   "name": "python",
   "nbconvert_exporter": "python",
   "pygments_lexer": "ipython3",
   "version": "3.10.16"
  }
 },
 "nbformat": 4,
 "nbformat_minor": 5
}
