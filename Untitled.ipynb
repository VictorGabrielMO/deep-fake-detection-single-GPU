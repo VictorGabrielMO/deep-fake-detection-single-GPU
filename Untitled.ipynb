{
 "cells": [
  {
   "cell_type": "code",
   "execution_count": 1,
   "id": "f4d1a9a1-f5a5-4081-8d8a-d4e9c1cf5b68",
   "metadata": {},
   "outputs": [
    {
     "name": "stdout",
     "output_type": "stream",
     "text": [
      "GPU Rank 0: GPU 0: GeForce GTX 1080 Ti (UUID: GPU-05be3b69-3af5-b482-ddef-111ef8a88251)\n",
      "GPU Rank 1: GPU 1: GeForce GTX 1080 Ti (UUID: GPU-dbebe369-f6e4-8d8a-e07d-7f04194a0137)\n"
     ]
    }
   ],
   "source": [
    "import subprocess\n",
    "\n",
    "# Run the nvidia-smi command to get GPU information\n",
    "nvidia_smi_output = subprocess.check_output(['nvidia-smi', '--list-gpus']).decode('utf-8')\n",
    "\n",
    "# Split the output into lines\n",
    "gpu_list = nvidia_smi_output.splitlines()\n",
    "\n",
    "# Print the GPU IDs and their ranks\n",
    "for rank, gpu in enumerate(gpu_list):\n",
    "    print(f\"GPU Rank {rank}: {gpu}\")\n"
   ]
  },
  {
   "cell_type": "code",
   "execution_count": null,
   "id": "a744a1ec-1862-4792-b49d-b384d3e7fb21",
   "metadata": {},
   "outputs": [],
   "source": []
  }
 ],
 "metadata": {
  "kernelspec": {
   "display_name": "two_gpus",
   "language": "python",
   "name": "two_gpus"
  },
  "language_info": {
   "codemirror_mode": {
    "name": "ipython",
    "version": 3
   },
   "file_extension": ".py",
   "mimetype": "text/x-python",
   "name": "python",
   "nbconvert_exporter": "python",
   "pygments_lexer": "ipython3",
   "version": "3.10.16"
  }
 },
 "nbformat": 4,
 "nbformat_minor": 5
}
